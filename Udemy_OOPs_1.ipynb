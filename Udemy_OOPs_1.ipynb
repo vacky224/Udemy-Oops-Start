{
  "nbformat": 4,
  "nbformat_minor": 0,
  "metadata": {
    "colab": {
      "name": "Udemy-OOPs-1.ipynb",
      "provenance": [],
      "collapsed_sections": [],
      "authorship_tag": "ABX9TyN5Rbz36rwZ4Aywfg19yU0Y",
      "include_colab_link": true
    },
    "kernelspec": {
      "name": "python3",
      "display_name": "Python 3"
    },
    "language_info": {
      "name": "python"
    }
  },
  "cells": [
    {
      "cell_type": "markdown",
      "metadata": {
        "id": "view-in-github",
        "colab_type": "text"
      },
      "source": [
        "<a href=\"https://colab.research.google.com/github/vacky224/Udemy-Oops-Start/blob/main/Udemy_OOPs_1.ipynb\" target=\"_parent\"><img src=\"https://colab.research.google.com/assets/colab-badge.svg\" alt=\"Open In Colab\"/></a>"
      ]
    },
    {
      "cell_type": "code",
      "metadata": {
        "id": "c6BOrHfMdZsB",
        "colab": {
          "base_uri": "https://localhost:8080/"
        },
        "outputId": "70157c3c-d26f-44f9-ca32-64f79caba45c"
      },
      "source": [
        "print (\"Hello World\")"
      ],
      "execution_count": 1,
      "outputs": [
        {
          "output_type": "stream",
          "name": "stdout",
          "text": [
            "Hello World\n"
          ]
        }
      ]
    },
    {
      "cell_type": "code",
      "metadata": {
        "colab": {
          "base_uri": "https://localhost:8080/"
        },
        "id": "13AV467yf5jw",
        "outputId": "051e4ce5-a6d9-41ff-8aeb-fd11c3d9480c"
      },
      "source": [
        "print (\"Let us see\")"
      ],
      "execution_count": 2,
      "outputs": [
        {
          "output_type": "stream",
          "name": "stdout",
          "text": [
            "Let us see\n"
          ]
        }
      ]
    },
    {
      "cell_type": "code",
      "metadata": {
        "id": "296Mk1gujNHq",
        "outputId": "12a59284-b25a-4ecf-b48a-b980328240bf",
        "colab": {
          "base_uri": "https://localhost:8080/"
        }
      },
      "source": [
        "revenue = 100000\n",
        "tax = 0.25\n",
        "income = revenue * tax\n",
        "print (income)"
      ],
      "execution_count": 3,
      "outputs": [
        {
          "output_type": "stream",
          "name": "stdout",
          "text": [
            "25000.0\n"
          ]
        }
      ]
    },
    {
      "cell_type": "code",
      "metadata": {
        "id": "qMpNDVkSCnVV",
        "outputId": "8e577313-d9cd-41c9-e56b-c6d48c15c959",
        "colab": {
          "base_uri": "https://localhost:8080/"
        }
      },
      "source": [
        "print (\"Let us start once more\")"
      ],
      "execution_count": 4,
      "outputs": [
        {
          "output_type": "stream",
          "name": "stdout",
          "text": [
            "Let us start once more\n"
          ]
        }
      ]
    }
  ]
}